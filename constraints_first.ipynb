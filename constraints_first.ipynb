{
 "cells": [
  {
   "cell_type": "markdown",
   "metadata": {},
   "source": [
    "# Constraints-First Prompting\n",
    "\n",
    "Constraints-First Prompting explicitly front-loads real-world limitations (such as budget, technical, regulatory, or timeline constraints) into the prompt so that the model tailors its solution or analysis around these boundaries. By highlighting constraints early, it ensures alignment with practical considerations and reduces unrealistic outputs.\n",
    "\n",
    "## Core Idea\n",
    "1.\tEarly Limitations: Present budget, legal, or technical constraints upfront to guide the model’s reasoning.\n",
    "2.\tFeasibility Over Ideals: The model focuses on practical, implementable solutions rather than idealized but unattainable ideas.\n",
    "3.\tReduced Redundancies: Prevents time wasted on proposals that exceed project scope or violate mandatory regulations.\n",
    "\n",
    "## References\n",
    "* https://arxiv.org/abs/2302.04459"
   ]
  },
  {
   "cell_type": "code",
   "execution_count": 2,
   "metadata": {},
   "outputs": [
    {
     "name": "stdout",
     "output_type": "stream",
     "text": [
      "{'model': 'llama3.2:latest', 'prompt': '\\nYou are a budget-conscious project manager. \\nGiven the following constraints, propose or refine the top requirements for the AR tourism app, \\nensuring none violate the budget, timeline, or technology restrictions.\\nScenario: \\nConstraints:\\n- Budget under $50,000\\n- Development time: 3 months\\n- Must run on standard smartphone hardware\\n- Minimal external dependencies\\nAR tourism app requirements needed under these constraints.\\n\\n', 'stream': False, 'options': {'temperature': 0.9, 'num_ctx': 10000, 'num_predict': 200}}\n",
      "Given the constraints, I propose the following top requirements for the AR tourism app:\n",
      "\n",
      "**Core Requirements**\n",
      "\n",
      "1. **Basic Location-Based AR Experience**: Develop a basic location-based AR experience that displays relevant information about nearby tourist attractions, such as name, description, and images.\n",
      "2. **Virtual Tour Guidance**: Implement a virtual tour guidance system that guides users through a pre-defined route or allows them to explore a specific attraction using 3D visuals and spatial audio.\n",
      "3. **Atmospheric and Environmental Enrichment**: Add atmospheric and environmental enrichment features, such as realistic lighting effects, soundscapes, and weather simulations, to enhance the overall user experience.\n",
      "\n",
      "**Core Requirements (Refined)**\n",
      "\n",
      "1. **Location Services**: Utilize standard smartphone location services (e.g., GPS, Wi-Fi, and cellular triangulation) to detect the user's proximity to tourist attractions.\n",
      "2. **3D Model Rendering**: Leverage existing 3D model libraries or create custom models using a suitable game\n",
      "Time taken: 12.561s\n"
     ]
    }
   ],
   "source": [
    "# constraints_first.ipynb\n",
    "\n",
    "from _pipeline import create_payload, model_req\n",
    "\n",
    "MESSAGE = \"\"\"\n",
    "Constraints:\n",
    "- Budget under $50,000\n",
    "- Development time: 3 months\n",
    "- Must run on standard smartphone hardware\n",
    "- Minimal external dependencies\n",
    "AR tourism app requirements needed under these constraints.\n",
    "\"\"\"\n",
    "\n",
    "PROMPT = f\"\"\"\n",
    "You are a budget-conscious project manager. \n",
    "Given the following constraints, propose or refine the top requirements for the AR tourism app, \n",
    "ensuring none violate the budget, timeline, or technology restrictions.\n",
    "Scenario: {MESSAGE}\n",
    "\"\"\"\n",
    "\n",
    "payload = create_payload(\n",
    "    target=\"ollama\",\n",
    "    model=\"llama3.2:latest\",\n",
    "    prompt=PROMPT,\n",
    "    temperature=0.9,\n",
    "    num_ctx=10000,\n",
    "    num_predict=200\n",
    ")\n",
    "\n",
    "time, response = model_req(payload=payload)\n",
    "print(response)\n",
    "if time: \n",
    "    print(f'Time taken: {time}s')"
   ]
  }
 ],
 "metadata": {
  "kernelspec": {
   "display_name": ".venv",
   "language": "python",
   "name": "python3"
  },
  "language_info": {
   "codemirror_mode": {
    "name": "ipython",
    "version": 3
   },
   "file_extension": ".py",
   "mimetype": "text/x-python",
   "name": "python",
   "nbconvert_exporter": "python",
   "pygments_lexer": "ipython3",
   "version": "3.13.2"
  }
 },
 "nbformat": 4,
 "nbformat_minor": 2
}
