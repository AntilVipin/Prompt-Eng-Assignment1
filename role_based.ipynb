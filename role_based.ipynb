{
 "cells": [
  {
   "cell_type": "markdown",
   "metadata": {},
   "source": [
    "# Role-Based Prompting\n",
    "\n",
    "Role-Based Prompting casts the model into specific roles or personas (e.g., a “Business Analyst,” “Technical Architect,” “QA Engineer”). This helps the model frame its answers from diverse perspectives, ensuring well-rounded analyses or solutions.\n",
    "\n",
    "## Core Idea\n",
    "1.\t**Targeted Perspective:** By giving the model a “role,” you direct its style and scope of reasoning.\n",
    "2.\t**Domain Expertise Simulation:** The LLM mimics a domain specialist’s thought process.\n",
    "3.\t**Multi-Role Collaboration:** Using multiple roles can capture conflicting priorities or needs (business vs. technical vs. user).\n",
    "\n",
    "## References\n",
    "* https://learnprompting.org/docs/advanced/zero_shot/role_prompting"
   ]
  },
  {
   "cell_type": "code",
   "execution_count": 5,
   "metadata": {},
   "outputs": [
    {
     "name": "stdout",
     "output_type": "stream",
     "text": [
      "{'model': 'llama3.2:latest', 'prompt': '\\nYou are a expert business analyst with deep knowledage of business. \\n\\nSystem Description:\\n\\nWe want to build a system that handles shipping of perishable goods from multiple vendors, \\nensuring proper temperature control and compliance with local regulations. \\nWe also need real-time updates to customers about shipping statuses.\\n\\n\\nProvide high-level business requirements and value propositions. Also provide the requirment analysis from business anlayst perspective.\\n', 'stream': False, 'options': {'temperature': 1.0, 'num_ctx': 100, 'num_predict': 200}}\n",
      "**High-Level Business Requirements:**\n",
      "\n",
      "1. **Temperature Control**: Ensure all shipments maintain a consistent temperature between 2°C and 8°C, regardless of external conditions.\n",
      "2. **Compliance with Local Regulations**: Adhere to local regulations regarding the transportation and storage of perishable goods, such as food and pharmaceuticals.\n",
      "3. **Real-time Monitoring**: Provide real-time tracking and monitoring of shipment temperatures to ensure timely delivery and quality control.\n",
      "4. **Cold Chain Management**: Implement a robust cold chain management system to maintain optimal temperatures during transit and storage.\n",
      "5. **Data Analytics**: Leverage data analytics to optimize logistics, reduce waste, and improve customer satisfaction.\n",
      "\n",
      "The goal is to create a system that can efficiently manage the cold chain, ensure product quality, and meet customer expectations.\n",
      "Time taken: 10.044s\n"
     ]
    }
   ],
   "source": [
    "# role_based.ipynb\n",
    "\n",
    "from _pipeline import create_payload, model_req\n",
    "\n",
    "# (1) Adjust the inbound Prompt\n",
    "MESSAGE = \"\"\"\n",
    "We want to build a system that handles shipping of perishable goods from multiple vendors, \n",
    "ensuring proper temperature control and compliance with local regulations. \n",
    "We also need real-time updates to customers about shipping statuses.\n",
    "\"\"\"\n",
    "\n",
    "# (2) Create the Prompt (Role-Based Technique)\n",
    "ROLE_BASED_PROMPT = f\"\"\"\n",
    "You are a expert business analyst with deep knowledage of business. \n",
    "\n",
    "System Description:\n",
    "{MESSAGE}\n",
    "\n",
    "Provide high-level business requirements and value propositions. Also provide the requirment analysis from business anlayst perspective.\n",
    "\"\"\"\n",
    "\n",
    "# (3) Configure the Model request\n",
    "payload = create_payload(\n",
    "    target=\"ollama\",\n",
    "    model=\"llama3.2:latest\",\n",
    "    prompt=ROLE_BASED_PROMPT,\n",
    "    temperature=1.0,\n",
    "    num_ctx=100,\n",
    "    num_predict=200\n",
    ")\n",
    "\n",
    "# (4) Send out to the model\n",
    "time, response = model_req(payload=payload)\n",
    "print(response)\n",
    "if time: \n",
    "    print(f'Time taken: {time}s')"
   ]
  }
 ],
 "metadata": {
  "kernelspec": {
   "display_name": ".venv",
   "language": "python",
   "name": "python3"
  },
  "language_info": {
   "codemirror_mode": {
    "name": "ipython",
    "version": 3
   },
   "file_extension": ".py",
   "mimetype": "text/x-python",
   "name": "python",
   "nbconvert_exporter": "python",
   "pygments_lexer": "ipython3",
   "version": "3.13.2"
  }
 },
 "nbformat": 4,
 "nbformat_minor": 2
}
