{
 "cells": [
  {
   "cell_type": "markdown",
   "metadata": {},
   "source": [
    "# Summarize + Evaluate Prompting\n",
    "\n",
    "Summarize + Evaluate Prompting first has the model summarize a set of ideas or requirements, then asks it to evaluate them for clarity, feasibility, or completeness. It combines synthesis with critical assessment in a single workflow.\n",
    "\n",
    "## Core Idea\n",
    "1.\t**Condensed View:** Summarize long or scattered information into concise key points.\n",
    "2.\t**Evaluation:** Rate or critique each point for relevance, correctness, or missing elements.\n",
    "3.\t**Refinement Loop:** The summarized evaluation helps you iterate and improve quickly.\n",
    "\n",
    "## References\n",
    "* Fabbri et al. (2021), [SummEval: Re-evaluating Summarization Evaluation](https://arxiv.org/abs/2007.12626)"
   ]
  },
  {
   "cell_type": "code",
   "execution_count": 1,
   "metadata": {},
   "outputs": [
    {
     "name": "stdout",
     "output_type": "stream",
     "text": [
      "{'model': 'llama3.2:latest', 'prompt': '\\nYou are an AI consultant. \\nFirst, summarize the given requirements for an online education platform. \\nThen, evaluate them for potential gaps, feasibility issues, and any missing components \\n(such as security, performance, user experience).\\nScenario: \\nRequirements we have so far:\\n1) Drag-and-drop course builder\\n2) Real-time collaboration\\n3) Automatic grading for quizzes\\n4) Customizable learning paths\\n5) Analytics dashboard\\nEvaluate these for completeness and feasibility.\\n\\n', 'stream': False, 'options': {'temperature': 0.8, 'num_ctx': 100, 'num_predict': 200}}\n",
      "**Evaluation of Course Builder Requirements**\n",
      "\n",
      "The provided requirements seem to be comprehensive, but I'll break them down to assess their completeness and feasibility:\n",
      "\n",
      "1. **Drag-and-drop course builder**: This is a fundamental requirement for an online learning platform. Completeness: 10/10, Feasibility: 9/10 (assuming standard UI components)\n",
      "2. **Online learning platform**: Not explicitly stated as a separate requirement, but it's implied. However, having a dedicated platform might be desirable. Completeness: 8/10, Feasibility: 7/10 (depending on existing infrastructure)\n",
      "3. **Content creation tools**: No explicit mention of content creation features like text editing, image upload, or video recording. These might be essential for a learning platform. Completeness: 6/10, Feasley: 5/10\n",
      "4. **User management and authentication**: User registration, login, and permission management would likely be required for a learning platform. Completeness:\n",
      "Time taken: 11.541s\n"
     ]
    }
   ],
   "source": [
    "# summarize_evaluate.ipynb\n",
    "\n",
    "from _pipeline import create_payload, model_req\n",
    "\n",
    "MESSAGE = \"\"\"\n",
    "Requirements we have so far:\n",
    "1) Drag-and-drop course builder\n",
    "2) Real-time collaboration\n",
    "3) Automatic grading for quizzes\n",
    "4) Customizable learning paths\n",
    "5) Analytics dashboard\n",
    "Evaluate these for completeness and feasibility.\n",
    "\"\"\"\n",
    "\n",
    "PROMPT = f\"\"\"\n",
    "You are an AI consultant. \n",
    "First, summarize the given requirements for an online education platform. \n",
    "Then, evaluate them for potential gaps, feasibility issues, and any missing components \n",
    "(such as security, performance, user experience).\n",
    "Scenario: {MESSAGE}\n",
    "\"\"\"\n",
    "\n",
    "payload = create_payload(\n",
    "    target=\"ollama\",\n",
    "    model=\"llama3.2:latest\",\n",
    "    prompt=PROMPT,\n",
    "    temperature=0.8,\n",
    "    num_ctx=100,\n",
    "    num_predict=200\n",
    ")\n",
    "\n",
    "time, response = model_req(payload=payload)\n",
    "print(response)\n",
    "if time: \n",
    "    print(f'Time taken: {time}s')"
   ]
  }
 ],
 "metadata": {
  "kernelspec": {
   "display_name": ".venv",
   "language": "python",
   "name": "python3"
  },
  "language_info": {
   "codemirror_mode": {
    "name": "ipython",
    "version": 3
   },
   "file_extension": ".py",
   "mimetype": "text/x-python",
   "name": "python",
   "nbconvert_exporter": "python",
   "pygments_lexer": "ipython3",
   "version": "3.13.2"
  }
 },
 "nbformat": 4,
 "nbformat_minor": 2
}
