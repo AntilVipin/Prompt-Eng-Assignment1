{
 "cells": [
  {
   "cell_type": "markdown",
   "metadata": {},
   "source": [
    "# Diagram-Assist Prompting\n",
    "\n",
    "Diagram-Assist Prompting instructs a language model to produce a text-based representation of system components, data flows, or user journeys. While the output is not a graphical image, the ASCII-like diagrams or structured outlines generated can help clarify complex architectures and processes.\n",
    "\n",
    "## Core Idea\n",
    "1.\tStructured Visualization: The prompt directs the model to depict relationships or workflows using text-based diagrams or bulleted outlines.\n",
    "2.\tClarity & Collaboration: Diagrammatic prompts help stakeholders collaborate without requiring specialized drawing tools—everyone can interpret or modify text-based diagrams.\n",
    "3.\tIntegration with Requirements: As part of requirement analysis or design brainstorming, Diagram-Assist Prompting can help capture architecture or system interactions more intuitively.\n",
    "\n",
    "## References\n",
    "* https://www.yworks.com/blog/graph-editing-with-llm"
   ]
  },
  {
   "cell_type": "code",
   "execution_count": 1,
   "metadata": {},
   "outputs": [
    {
     "name": "stdout",
     "output_type": "stream",
     "text": [
      "{'model': 'llama3.2:latest', 'prompt': '\\nYou are a system architect. \\nProvide a text-based diagram or flow that shows the main modules, user roles, and data flows.\\nThen, briefly describe key requirements for each part of the diagram.\\nScenario: \\nWe need a conceptual diagram of a patient portal with distinct roles:\\n- Patients can view records, book appointments\\n- Doctors can update records, schedule surgeries\\n- Nurses can monitor patient vitals\\n- Admin can manage billing\\n\\n', 'stream': False, 'options': {'temperature': 0.7, 'num_ctx': 150, 'num_predict': 200}}\n",
      "Here is a text-based diagram and flow for the patient portal system:\n",
      "\n",
      "```\n",
      "+---------------+\n",
      "|  User Login  |\n",
      "+---------------+\n",
      "        |\n",
      "        |  (Patient)\n",
      "        v\n",
      "+---------------+---------------+\n",
      "|  Patient Home  |  Doctor Home  |\n",
      "+---------------+---------------+\n",
      "|  View Records  | Update Records|\n",
      "|  Book Appointments| Schedule Surgeries|\n",
      "+---------------+---------------+\n",
      "        |\n",
      "        |  (Nurse)\n",
      "        v\n",
      "+---------------+---------------+\n",
      "|  Nurse Vitals   |\n",
      "|  Monitor Patient|\n",
      "+---------------+---------------+\n",
      "        |\n",
      "        |  (Admin)\n",
      "        v\n",
      "+---------------+---------------+\n",
      "|  Manage Users  | Manage Settings|\n",
      "|  View Reports   | View System Logs|\n",
      "+---------------+---------------+\n",
      "\n",
      "```\n",
      "This is a simple UML class diagram representing a basic healthcare system. It includes classes for patients, doctors, and administrators, as well as relationships between them.\n",
      "\n",
      "Here's a more detailed explanation of the\n",
      "Time taken: 11.745s\n"
     ]
    }
   ],
   "source": [
    "# diagram_assist.ipynb\n",
    "\n",
    "from _pipeline import create_payload, model_req\n",
    "\n",
    "MESSAGE = \"\"\"\n",
    "We need a conceptual diagram of a patient portal with distinct roles:\n",
    "- Patients can view records, book appointments\n",
    "- Doctors can update records, schedule surgeries\n",
    "- Nurses can monitor patient vitals\n",
    "- Admin can manage billing\n",
    "\"\"\"\n",
    "\n",
    "PROMPT = f\"\"\"\n",
    "You are a system architect. \n",
    "Provide a text-based diagram or flow that shows the main modules, user roles, and data flows.\n",
    "Then, briefly describe key requirements for each part of the diagram.\n",
    "Scenario: {MESSAGE}\n",
    "\"\"\"\n",
    "\n",
    "payload = create_payload(\n",
    "    target=\"ollama\",\n",
    "    model=\"llama3.2:latest\",\n",
    "    prompt=PROMPT,\n",
    "    temperature=0.7,\n",
    "    num_ctx=150,\n",
    "    num_predict=200\n",
    ")\n",
    "\n",
    "time, response = model_req(payload=payload)\n",
    "print(response)\n",
    "if time: \n",
    "    print(f'Time taken: {time}s')"
   ]
  }
 ],
 "metadata": {
  "kernelspec": {
   "display_name": ".venv",
   "language": "python",
   "name": "python3"
  },
  "language_info": {
   "codemirror_mode": {
    "name": "ipython",
    "version": 3
   },
   "file_extension": ".py",
   "mimetype": "text/x-python",
   "name": "python",
   "nbconvert_exporter": "python",
   "pygments_lexer": "ipython3",
   "version": "3.13.2"
  }
 },
 "nbformat": 4,
 "nbformat_minor": 2
}
