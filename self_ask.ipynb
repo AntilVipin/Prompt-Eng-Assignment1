{
 "cells": [
  {
   "cell_type": "markdown",
   "metadata": {},
   "source": [
    "# Self-Ask Prompting\n",
    "\n",
    "Self-Ask Prompting instructs the model to generate its own questions about a user query, then answer those questions, and finally produce a consolidated response. This approach systematically surfaces hidden assumptions and clarifications, improving thoroughness.\n",
    "\n",
    "## Core Idea\n",
    "1. **Self-Questioning:** The LLM proposes sub-questions it deems necessary to clarify the main query.\n",
    "2. **Self-Resolution:** It answers its own questions using its knowledge base.\n",
    "3. **Comprehensive Response:** The final output is more detailed, covering potential uncertainties or ambiguities.\n",
    "\n",
    "## References\n",
    "* https://learnprompting.org/docs/advanced/few_shot/self_ask"
   ]
  },
  {
   "cell_type": "code",
   "execution_count": 5,
   "metadata": {},
   "outputs": [
    {
     "name": "stdout",
     "output_type": "stream",
     "text": [
      "{'model': 'llama3.2:latest', 'prompt': '\\nYou are an AI Requirements Analyst. \\n**Step 1**: List all the questions you need to ask to clarify the requirements for the scenario below.\\n**Step 2**: Answer those questions yourself based on typical domain knowledge and assumptions.\\n**Step 3**: Produce a concise but complete requirement analysis that covers:\\n   - Functional Requirements\\n   - Non-functional Requirements\\n   - User Stories\\n   - Constraints & Assumptions\\n\\nMake sure to include every step in your final output without omission.\\n\\nScenario:\\n\\nWe want to build an e-commerce platform that allows customers to order custom-tailored outfits.\\nPlease perform a self-ask approach:\\n1) Generate clarifying questions you would need to ask to fully understand the requirements.\\n2) Answer these questions based on typical e-commerce knowledge and domain assumptions.\\n3) Provide a consolidated requirement analysis, including:\\n   - Functional Requirements\\n   - Non-functional Requirements\\n   - User Stories\\n   - Constraints & Assumptions\\n\\n', 'stream': False, 'options': {'temperature': 1.0, 'num_ctx': 512, 'num_predict': 512}}\n",
      "**Step 1: Clarifying Questions**\n",
      "\n",
      "To fully understand the requirements for the custom-tailored outfit e-commerce platform, I would ask:\n",
      "\n",
      "1. What type of customization options are available (e.g., size, color, style)?\n",
      "2. How will customers select their desired outfit components (e.g., tops, bottoms, dresses)?\n",
      "3. Will there be any fabric or material restrictions based on customer preferences (e.g., sustainable materials, vegan-friendly)?\n",
      "4. Are there specific garment styles that need to be supported (e.g., workwear, formal wear)?\n",
      "5. How will inventory management work for custom-tailored items? Will they be pre-made or ordered as needed?\n",
      "6. What is the expected turnaround time for creating and shipping custom orders?\n",
      "7. Will there be any specific pricing models for custom orders (e.g., tiered pricing based on complexity, materials used)?\n",
      "8. Are there any integrations with third-party services required (e.g., payment gateways, shipping providers)?\n",
      "9. How will customer relationships be managed, particularly if there are multiple stages in the design and production process?\n",
      "10. Will there be a system for tracking and managing customer feedback, and if so, how?\n",
      "\n",
      "**Step 2: Answering Clarifying Questions**\n",
      "\n",
      "Based on typical e-commerce knowledge and domain assumptions:\n",
      "\n",
      "1. Customization options may include size (e.g., XS-L), color, style, and possibly other details like fabric content or embroidery.\n",
      "2. Customers will likely select their desired outfit components using a filter-based system with dropdowns for size, color, and style options.\n",
      "3. Fabric restrictions may be based on customer preferences for sustainability, veganism, or specific materials used in the garment (e.g., organic cotton).\n",
      "4. Garment styles that need to be supported include workwear, formal wear, as well as possibly some casual and activewear styles.\n",
      "5. Inventory management will likely involve a system where custom orders are created and stored until production, then shipped out when ready. Some orders might be pre-made to meet demand or for rush orders.\n",
      "6. The expected turnaround time for creating and shipping custom orders is typically between 7-14 business days, depending on the complexity of the design and materials used.\n",
      "7. Pricing models may include tiered pricing based on complexity (e.g., more complex designs with more details) and the types of materials used (e.g., premium fabrics).\n",
      "8. Integrations with third-party services are common in e-commerce; payment gateways like PayPal or Stripe, as well as\n",
      "Time taken: 24.785s\n"
     ]
    }
   ],
   "source": [
    "# self_ask.ipynb\n",
    "\n",
    "from _pipeline import create_payload, model_req\n",
    "\n",
    "# (1) Adjust the inbound Prompt\n",
    "MESSAGE = \"\"\"\n",
    "We want to build an e-commerce platform that allows customers to order custom-tailored outfits.\n",
    "Please perform a self-ask approach:\n",
    "1) Generate clarifying questions you would need to ask to fully understand the requirements.\n",
    "2) Answer these questions based on typical e-commerce knowledge and domain assumptions.\n",
    "3) Provide a consolidated requirement analysis, including:\n",
    "   - Functional Requirements\n",
    "   - Non-functional Requirements\n",
    "   - User Stories\n",
    "   - Constraints & Assumptions\n",
    "\"\"\"\n",
    "\n",
    "# (2) Create the Prompt (Self-Ask Technique)\n",
    "# Adding explicit instructions to ensure the model provides all steps in full.\n",
    "SELF_ASK_PROMPT = f\"\"\"\n",
    "You are an AI Requirements Analyst. \n",
    "**Step 1**: List all the questions you need to ask to clarify the requirements for the scenario below.\n",
    "**Step 2**: Answer those questions yourself based on typical domain knowledge and assumptions.\n",
    "**Step 3**: Produce a concise but complete requirement analysis that covers:\n",
    "   - Functional Requirements\n",
    "   - Non-functional Requirements\n",
    "   - User Stories\n",
    "   - Constraints & Assumptions\n",
    "\n",
    "Make sure to include every step in your final output without omission.\n",
    "\n",
    "Scenario:\n",
    "{MESSAGE}\n",
    "\"\"\"\n",
    "\n",
    "# (3) Configure the Model request\n",
    "# Increase num_ctx and num_predict to reduce truncation chances.\n",
    "payload = create_payload(\n",
    "    target=\"ollama\",               # or whichever target fits your environment\n",
    "    model=\"llama3.2:latest\",       # or your desired model\n",
    "    prompt=SELF_ASK_PROMPT,\n",
    "    temperature=1.0,\n",
    "    num_ctx=512,     # Increase if your model/context window allows\n",
    "    num_predict=512  # Increase to ensure the full response can be generated\n",
    ")\n",
    "\n",
    "# (4) Send out to the model\n",
    "time, response = model_req(payload=payload)\n",
    "print(response)\n",
    "if time: \n",
    "    print(f'Time taken: {time}s')"
   ]
  }
 ],
 "metadata": {
  "kernelspec": {
   "display_name": ".venv",
   "language": "python",
   "name": "python3"
  },
  "language_info": {
   "codemirror_mode": {
    "name": "ipython",
    "version": 3
   },
   "file_extension": ".py",
   "mimetype": "text/x-python",
   "name": "python",
   "nbconvert_exporter": "python",
   "pygments_lexer": "ipython3",
   "version": "3.13.2"
  }
 },
 "nbformat": 4,
 "nbformat_minor": 2
}
