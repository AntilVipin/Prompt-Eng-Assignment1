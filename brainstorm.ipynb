{
 "cells": [
  {
   "cell_type": "markdown",
   "metadata": {},
   "source": [
    "# Brainstorm Prompting\n",
    "\n",
    "Brainstorm Prompting guides the model to generate a wide range of ideas or options before converging on a final answer. It is particularly useful for creative or open-ended tasks, such as design thinking or solution ideation.\n",
    "\n",
    "## Core Idea\n",
    "1.\t**Idea Generation:** The model is explicitly told to list multiple possibilities without judgment.\n",
    "2.\t**Encourage Novelty:** Often uses higher temperature or specific wording (“Generate 10 ideas…”).\n",
    "3.\t**Later Filtering:** After brainstorming, you can refine or filter results for feasibility or relevance.\n",
    "\n",
    "## References\n",
    "* Wu et al. (2022), [Generating Diverse Suggestions in Collaborative Brainstorming](https://arxiv.org/abs/2209.07974)"
   ]
  },
  {
   "cell_type": "code",
   "execution_count": 1,
   "metadata": {},
   "outputs": [
    {
     "name": "stdout",
     "output_type": "stream",
     "text": [
      "{'model': 'llama3.2:latest', 'prompt': '\\nYou are an expert product designer. \\nBrainstorm at least 10 different requirements or features for this translation app, \\nincluding some that might not be obvious at first glance.\\nThen briefly explain why each requirement could be important.\\nScenario: \\nWe are building a mobile app for real-time language translation, even in areas with limited internet.\\nGenerate a diverse set of potential requirements (both functional and non-functional) \\nthat could make this application succeed.\\n\\n', 'stream': False, 'options': {'temperature': 1.2, 'num_ctx': 150, 'num_predict': 250}}\n",
      "Here are 10 different requirements or features for the translation app, including some that might not be immediately apparent:\n",
      "\n",
      "1. **Offline Data Preprocessing**: Store translated data locally on the device, allowing users to access translations even without an internet connection.\n",
      "2. **Real-time Contextual Translation**: Use AI-powered machine learning algorithms to understand the context of the conversation and provide more accurate translations in real-time.\n",
      "3. **Voice Assistant Integration**: Allow users to trigger voice-to-translation functionality with voice commands, making it easier to translate conversations hands-free.\n",
      "4. **Multilingual Dictionary**: Provide a comprehensive dictionary of words in multiple languages, allowing users to learn new vocabulary on the go.\n",
      "5. **Offline Maps and Travel Guides**: Offer offline access to maps, travel guides, and cultural information for destinations around the world, helping users navigate unfamiliar places.\n",
      "6. **Language Learning Features**: Incorporate language learning tools, such as verb conjugations, grammar explanations, and speaking exercises, to help users improve their language skills.\n",
      "7. **Offline Messaging and Voice Notes**: Allow users to send messages and record voice notes while offline, ensuring they can stay in touch with friends and family without an internet connection.\n",
      "\n",
      "These features prioritize user experience, accessibility, and practicality\n",
      "Time taken: 13.338s\n"
     ]
    }
   ],
   "source": [
    "# brainstorm.ipynb\n",
    "\n",
    "from _pipeline import create_payload, model_req\n",
    "\n",
    "MESSAGE = \"\"\"\n",
    "We are building a mobile app for real-time language translation, even in areas with limited internet.\n",
    "Generate a diverse set of potential requirements (both functional and non-functional) \n",
    "that could make this application succeed.\n",
    "\"\"\"\n",
    "\n",
    "PROMPT = f\"\"\"\n",
    "You are an expert product designer. \n",
    "Brainstorm at least 10 different requirements or features for this translation app, \n",
    "including some that might not be obvious at first glance.\n",
    "Then briefly explain why each requirement could be important.\n",
    "Scenario: {MESSAGE}\n",
    "\"\"\"\n",
    "\n",
    "payload = create_payload(\n",
    "    target=\"ollama\",\n",
    "    model=\"llama3.2:latest\",\n",
    "    prompt=PROMPT,\n",
    "    temperature=1.2,  # Higher temperature can encourage more creativity\n",
    "    num_ctx=150,\n",
    "    num_predict=250\n",
    ")\n",
    "\n",
    "time, response = model_req(payload=payload)\n",
    "print(response)\n",
    "if time: \n",
    "    print(f'Time taken: {time}s')"
   ]
  }
 ],
 "metadata": {
  "kernelspec": {
   "display_name": ".venv",
   "language": "python",
   "name": "python3"
  },
  "language_info": {
   "codemirror_mode": {
    "name": "ipython",
    "version": 3
   },
   "file_extension": ".py",
   "mimetype": "text/x-python",
   "name": "python",
   "nbconvert_exporter": "python",
   "pygments_lexer": "ipython3",
   "version": "3.13.2"
  }
 },
 "nbformat": 4,
 "nbformat_minor": 2
}
