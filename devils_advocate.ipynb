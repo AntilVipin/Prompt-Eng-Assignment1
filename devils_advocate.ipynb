{
 "cells": [
  {
   "cell_type": "markdown",
   "metadata": {},
   "source": [
    "# Devil’s Advocate Prompting\n",
    "\n",
    "Devil’s Advocate Prompting instructs the model to criticize or challenge a proposed idea or solution. By actively seeking drawbacks, limitations, or failure points, this method reveals aspects that standard brainstorming might overlook.\n",
    "\n",
    "## Core Idea\n",
    "1.\t**Provoke Criticism:** The model systematically pokes holes in assumptions.\n",
    "2.\t**Uncover Weaknesses:** Potential failure modes, negative outcomes, or user dissatisfaction points.\n",
    "3.\t**Balanced Improvement:** After enumerating flaws, you can refine or mitigate them.\n",
    "\n",
    "## References\n",
    "* https://github.com/microsoft/prompts-for-edu/blob/main/Students/Prompts/Devils%20Advocate.MD"
   ]
  },
  {
   "cell_type": "code",
   "execution_count": 1,
   "metadata": {},
   "outputs": [
    {
     "name": "stdout",
     "output_type": "stream",
     "text": [
      "{'model': 'llama3.2:latest', 'prompt': \"\\nYou are a Devil's Advocate for the product team. \\nList possible points of failure or serious drawbacks for the scheduled ride-sharing feature. \\nThen, propose corresponding requirements or mitigations to address those issues.\\nScenario: \\nWe want a feature where ride-share users can book rides days in advance.\\nExplore potential pitfalls, vulnerabilities, or areas where assumptions might fail.\\n\\n\", 'stream': False, 'options': {'temperature': 0.9, 'num_ctx': 100, 'num_predict': 200}}\n",
      "As a Devil's Advocate, I've identified several potential pitfalls and vulnerabilities in the proposed feature. Here are some of them:\n",
      "\n",
      "1. **Overbooking**: With the ability to book rides days in advance, there's a risk that drivers won't be available on the day of the ride, leading to overbooking and disappointment for passengers.\n",
      "2. **Driver availability**: If too many riders book their rides simultaneously, it could lead to driver shortages, making it difficult for passengers to get a ride.\n",
      "3. **Peak hour traffic**: During peak hours, such as rush hour or festivals, traffic congestion can be severe, leading to delays and increased wait times for passengers.\n",
      "4. **Vehicle capacity limits**: If too many passengers are trying to ride at the same time, it can lead to vehicle capacity limits being exceeded, causing some passengers to have to wait or be turned away.\n",
      "5. **Parking and loading issues**: Finding parking spots near the designated pickup/dropoff locations can be a challenge for drivers\n",
      "Time taken: 11.655s\n"
     ]
    }
   ],
   "source": [
    "# devils_advocate.ipynb\n",
    "\n",
    "from _pipeline import create_payload, model_req\n",
    "\n",
    "MESSAGE = \"\"\"\n",
    "We want a feature where ride-share users can book rides days in advance.\n",
    "Explore potential pitfalls, vulnerabilities, or areas where assumptions might fail.\n",
    "\"\"\"\n",
    "\n",
    "PROMPT = f\"\"\"\n",
    "You are a Devil's Advocate for the product team. \n",
    "List possible points of failure or serious drawbacks for the scheduled ride-sharing feature. \n",
    "Then, propose corresponding requirements or mitigations to address those issues.\n",
    "Scenario: {MESSAGE}\n",
    "\"\"\"\n",
    "\n",
    "payload = create_payload(\n",
    "    target=\"ollama\",\n",
    "    model=\"llama3.2:latest\",\n",
    "    prompt=PROMPT,\n",
    "    temperature=0.9,\n",
    "    num_ctx=100,\n",
    "    num_predict=200\n",
    ")\n",
    "\n",
    "time, response = model_req(payload=payload)\n",
    "print(response)\n",
    "if time: \n",
    "    print(f'Time taken: {time}s')"
   ]
  }
 ],
 "metadata": {
  "kernelspec": {
   "display_name": ".venv",
   "language": "python",
   "name": "python3"
  },
  "language_info": {
   "codemirror_mode": {
    "name": "ipython",
    "version": 3
   },
   "file_extension": ".py",
   "mimetype": "text/x-python",
   "name": "python",
   "nbconvert_exporter": "python",
   "pygments_lexer": "ipython3",
   "version": "3.13.2"
  }
 },
 "nbformat": 4,
 "nbformat_minor": 2
}
